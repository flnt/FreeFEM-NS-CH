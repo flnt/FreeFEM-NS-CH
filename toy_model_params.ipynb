{
 "cells": [
  {
   "cell_type": "markdown",
   "id": "bc71feeb",
   "metadata": {},
   "source": [
    "### Phase-field"
   ]
  },
  {
   "cell_type": "code",
   "execution_count": 1,
   "id": "b5fcfbb2",
   "metadata": {},
   "outputs": [],
   "source": [
    "sharp() = 16*sqrt(mu2)*Ca/Cn;\n",
    "δ() = (1/√0.8679)*√(Ca*Cn*a/Pe);"
   ]
  },
  {
   "cell_type": "markdown",
   "id": "d4bf32bf",
   "metadata": {},
   "source": [
    "#### Paramaters"
   ]
  },
  {
   "cell_type": "code",
   "execution_count": 9,
   "id": "945ac9f7",
   "metadata": {},
   "outputs": [],
   "source": [
    "Sp = 6\n",
    "Tn = 1;"
   ]
  },
  {
   "cell_type": "code",
   "execution_count": 10,
   "id": "71b0b163",
   "metadata": {},
   "outputs": [],
   "source": [
    "Ca  = 0.0212;\n",
    "Cn  = 0.01;\n",
    "Re  = 3.978;\n",
    "mu2 = 1e-2;\n",
    "rho2 = 1e-2;\n",
    "thE = 70.0/180.0*pi;\n",
    "mufa = 0.0;\n",
    "mufr = 0.0;"
   ]
  },
  {
   "cell_type": "code",
   "execution_count": 11,
   "id": "908ca30e",
   "metadata": {},
   "outputs": [],
   "source": [
    "a = 1.0;"
   ]
  },
  {
   "cell_type": "code",
   "execution_count": 14,
   "id": "b84c7fec",
   "metadata": {},
   "outputs": [],
   "source": [
    "Pe = 5;\n",
    "# Pe = 7.116318;"
   ]
  },
  {
   "cell_type": "code",
   "execution_count": 15,
   "id": "a6c36c16",
   "metadata": {},
   "outputs": [
    {
     "name": "stdout",
     "output_type": "stream",
     "text": [
      "sharp() = 3.392\n",
      "Pe = 5\n",
      "Pe < sharp() = false\n",
      "δ() = 0.006989531783816181\n"
     ]
    }
   ],
   "source": [
    "@show (sharp())\n",
    "@show (Pe)\n",
    "@show (Pe < sharp());\n",
    "@show (δ());"
   ]
  },
  {
   "cell_type": "markdown",
   "id": "e5a429d8",
   "metadata": {},
   "source": [
    "### VOF"
   ]
  },
  {
   "cell_type": "markdown",
   "id": "315c4e91",
   "metadata": {},
   "source": [
    "#### Parameters"
   ]
  },
  {
   "cell_type": "code",
   "execution_count": 156,
   "id": "80466c8d",
   "metadata": {},
   "outputs": [],
   "source": [
    "Oh() = muliq_SI/√(rholiq_SI*SIGMA_SI*_width_SI)\n",
    "La() = 1/Oh()^2;"
   ]
  },
  {
   "cell_type": "code",
   "execution_count": 157,
   "id": "f16ea7fc",
   "metadata": {},
   "outputs": [],
   "source": [
    "rholiq_SI = 986.;\n",
    "SIGMA_SI = 5.78e-2;\n",
    "muliq_SI = 8.77e-4;\n",
    "rhogas_SI = rholiq_SI*rho2;\n",
    "mugas_SI = muliq_SI*mu2;"
   ]
  },
  {
   "cell_type": "code",
   "execution_count": 158,
   "id": "68f08844",
   "metadata": {},
   "outputs": [
    {
     "data": {
      "text/plain": [
       "1.397217787913341"
      ]
     },
     "execution_count": 158,
     "metadata": {},
     "output_type": "execute_result"
    }
   ],
   "source": [
    "u_plates_SI = SIGMA_SI*Ca/muliq_SI"
   ]
  },
  {
   "cell_type": "code",
   "execution_count": 159,
   "id": "9b429ee3",
   "metadata": {},
   "outputs": [
    {
     "data": {
      "text/plain": [
       "2.5323477913879776e-6"
      ]
     },
     "execution_count": 159,
     "metadata": {},
     "output_type": "execute_result"
    }
   ],
   "source": [
    "_width_SI = muliq_SI*Re/(rholiq_SI*u_plates_SI) "
   ]
  },
  {
   "cell_type": "code",
   "execution_count": 160,
   "id": "f1dffe13",
   "metadata": {},
   "outputs": [
    {
     "name": "stdout",
     "output_type": "stream",
     "text": [
      "Oh() = 0.0730021315556207\n",
      "La() = 187.6415094339623\n"
     ]
    }
   ],
   "source": [
    "@show (Oh())\n",
    "@show (La());"
   ]
  },
  {
   "cell_type": "code",
   "execution_count": 141,
   "id": "868589dd",
   "metadata": {},
   "outputs": [],
   "source": [
    "_height_SI = _width_SI\n",
    "_widthliq_SI = _width_SI\n",
    "_width = 1.\n",
    "u_plates = 1.\n",
    "_height = _width # (_width/npe())    \n",
    "MU_unit = (rholiq_SI*u_plates_SI*_height_SI)\n",
    "SIGMA_unit = (rholiq_SI*_height_SI*u_plates_SI*u_plates_SI)\n",
    "T_unit = ((_height_SI*u_plates)/(_height*u_plates_SI))\n",
    "L_unit = (_height_SI/_height)\n",
    "\n",
    "muliq = (muliq_SI/MU_unit) # = 1/Re_l\n",
    "mugas = (mugas_SI/MU_unit) \n",
    "SIGMA = (SIGMA_SI/SIGMA_unit) # =1/We_l \n",
    "rholiq = 1.\n",
    "rhogas = rhogas_SI/rholiq_SI\n",
    "_widthliq = (_widthliq_SI/L_unit);\n",
    "\n",
    "#define TEND_SI 1e-6\n",
    "#define TOUT_SI 0.4e-9\n",
    "#define TEND (TEND_SI/T_unit)\n",
    "#define TOUT (TOUT_SI/T_unit)\n",
    "#define TCHAR 1."
   ]
  },
  {
   "cell_type": "code",
   "execution_count": 97,
   "id": "1a02bbcb",
   "metadata": {},
   "outputs": [
    {
     "name": "stdout",
     "output_type": "stream",
     "text": [
      "T_unit = 1.233967728780864e-5\n"
     ]
    }
   ],
   "source": [
    "@show(T_unit);"
   ]
  },
  {
   "cell_type": "code",
   "execution_count": 124,
   "id": "c1dead4a",
   "metadata": {},
   "outputs": [
    {
     "data": {
      "text/plain": [
       "0.015629068199508347"
      ]
     },
     "execution_count": 124,
     "metadata": {},
     "output_type": "execute_result"
    }
   ],
   "source": [
    "δ()"
   ]
  },
  {
   "cell_type": "code",
   "execution_count": 146,
   "id": "c27ac935",
   "metadata": {},
   "outputs": [
    {
     "data": {
      "text/plain": [
       "0.577350269189626"
      ]
     },
     "execution_count": 146,
     "metadata": {},
     "output_type": "execute_result"
    }
   ],
   "source": [
    "cot(60*pi/180)"
   ]
  },
  {
   "cell_type": "code",
   "execution_count": 151,
   "id": "fd9c4b75",
   "metadata": {},
   "outputs": [
    {
     "data": {
      "text/plain": [
       "5.671281819617709"
      ]
     },
     "execution_count": 151,
     "metadata": {},
     "output_type": "execute_result"
    }
   ],
   "source": [
    "cot(10*pi/180)"
   ]
  },
  {
   "cell_type": "code",
   "execution_count": null,
   "id": "b653eba8",
   "metadata": {},
   "outputs": [],
   "source": []
  }
 ],
 "metadata": {
  "kernelspec": {
   "display_name": "Julia 1.8.0-rc1",
   "language": "julia",
   "name": "julia-1.8"
  },
  "language_info": {
   "file_extension": ".jl",
   "mimetype": "application/julia",
   "name": "julia",
   "version": "1.8.0"
  }
 },
 "nbformat": 4,
 "nbformat_minor": 5
}
