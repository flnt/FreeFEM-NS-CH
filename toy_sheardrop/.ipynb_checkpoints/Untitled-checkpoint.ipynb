{
 "cells": [
  {
   "cell_type": "code",
   "execution_count": 2,
   "id": "dc098e21",
   "metadata": {},
   "outputs": [],
   "source": [
    "import math"
   ]
  },
  {
   "cell_type": "code",
   "execution_count": 8,
   "id": "5fba319a",
   "metadata": {},
   "outputs": [],
   "source": [
    "def getCurvature(x1, y1, x2, y2, x3, y3):\n",
    "    point1 = (x1, y1)\n",
    "    point2 = (x2, y2)\n",
    "    point3 = (x3, y3)\n",
    "\n",
    "    # Calculating length of all three sides\n",
    "    len_side_1 = math.dist(point1, point2)\n",
    "    len_side_2 = math.dist(point2, point3)\n",
    "    len_side_3 = math.dist(point1, point3)\n",
    "\n",
    "    # sp is semi-perimeter\n",
    "    sp = (len_side_1 + len_side_2 + len_side_3) / 2\n",
    "\n",
    "    # Calculating area using Herons formula\n",
    "    area = math.sqrt(sp * (sp - len_side_1) * (sp - len_side_2) * (sp - len_side_3))\n",
    "\n",
    "    # Calculating curvature using Menger curvature formula\n",
    "    curvature = (4 * area) / (len_side_1 * len_side_2 * len_side_3)\n",
    "\n",
    "    return curvature\n",
    "\n",
    "def getCurvature_p(p1, p2, p3):\n",
    "    \n",
    "    # Calculating length of all three sides\n",
    "    len_side_1 = math.dist(p1, p2)\n",
    "    len_side_2 = math.dist(p2, p3)\n",
    "    len_side_3 = math.dist(p1, p3)\n",
    "\n",
    "    # sp is semi-perimeter\n",
    "    sp = (len_side_1 + len_side_2 + len_side_3) / 2\n",
    "\n",
    "    # Calculating area using Herons formula\n",
    "    area = math.sqrt(sp * (sp - len_side_1) * (sp - len_side_2) * (sp - len_side_3))\n",
    "\n",
    "    # Calculating curvature using Menger curvature formula\n",
    "    curvature = (4 * area) / (len_side_1 * len_side_2 * len_side_3)\n",
    "\n",
    "    return curvature\n",
    "\n",
    "def getRHS(Ca, Cn, Pe, a):\n",
    "    return (2*math.sqrt(2)/3) * (1/math.sqrt(0.8679)) * (math.sqrt(Cn/Pe/Ca/a))\n",
    "    #return (math.sqrt(Cn/(0.053*a*Pe)))"
   ]
  },
  {
   "cell_type": "code",
   "execution_count": 9,
   "id": "8c11e109",
   "metadata": {},
   "outputs": [],
   "source": [
    "x1 = -0.555621\n",
    "x2 = -0.5554\n",
    "x3 = -0.555086\n",
    "\n",
    "y1 = -0.5\n",
    "y2 = -0.489899\n",
    "y3 = -0.479798\n",
    "\n",
    "p1 = (-0.555621, -0.5)\n",
    "p2 = (-0.5554, -0.489899)\n",
    "p3 = (-0.555086, -0.479798)"
   ]
  },
  {
   "cell_type": "code",
   "execution_count": 10,
   "id": "769b5bd5",
   "metadata": {},
   "outputs": [
    {
     "data": {
      "text/plain": [
       "1.098276496438582"
      ]
     },
     "execution_count": 10,
     "metadata": {},
     "output_type": "execute_result"
    }
   ],
   "source": [
    "1/getCurvature(x1, y1, x2, y2, x3, y3)"
   ]
  },
  {
   "cell_type": "code",
   "execution_count": 11,
   "id": "b90f1a29",
   "metadata": {},
   "outputs": [
    {
     "data": {
      "text/plain": [
       "1.098276496438582"
      ]
     },
     "execution_count": 11,
     "metadata": {},
     "output_type": "execute_result"
    }
   ],
   "source": [
    "1/getCurvature_p(p1, p2, p3)"
   ]
  },
  {
   "cell_type": "code",
   "execution_count": 6,
   "id": "3de4597a",
   "metadata": {},
   "outputs": [
    {
     "data": {
      "text/plain": [
       "1.098276496438582"
      ]
     },
     "execution_count": 6,
     "metadata": {},
     "output_type": "execute_result"
    }
   ],
   "source": [
    "R"
   ]
  },
  {
   "cell_type": "code",
   "execution_count": 7,
   "id": "9997a07c",
   "metadata": {},
   "outputs": [
    {
     "data": {
      "text/plain": [
       "0.006216786568119909"
      ]
     },
     "execution_count": 7,
     "metadata": {},
     "output_type": "execute_result"
    }
   ],
   "source": [
    "getRHS(1.06, 0.01, 100., 2.5)"
   ]
  },
  {
   "cell_type": "code",
   "execution_count": 133,
   "id": "e7119c88",
   "metadata": {},
   "outputs": [],
   "source": [
    "phi = 0.0161338"
   ]
  },
  {
   "cell_type": "code",
   "execution_count": 138,
   "id": "71882981",
   "metadata": {},
   "outputs": [
    {
     "data": {
      "text/plain": [
       "0.03784956982453316"
      ]
     },
     "execution_count": 138,
     "metadata": {},
     "output_type": "execute_result"
    }
   ],
   "source": [
    "1/2 * 2*math.sqrt(2)/2 * 0.01 / R"
   ]
  },
  {
   "cell_type": "code",
   "execution_count": null,
   "id": "bf7885cb",
   "metadata": {},
   "outputs": [],
   "source": []
  }
 ],
 "metadata": {
  "kernelspec": {
   "display_name": "Python 3 (ipykernel)",
   "language": "python",
   "name": "python3"
  },
  "language_info": {
   "codemirror_mode": {
    "name": "ipython",
    "version": 3
   },
   "file_extension": ".py",
   "mimetype": "text/x-python",
   "name": "python",
   "nbconvert_exporter": "python",
   "pygments_lexer": "ipython3",
   "version": "3.10.6"
  }
 },
 "nbformat": 4,
 "nbformat_minor": 5
}
