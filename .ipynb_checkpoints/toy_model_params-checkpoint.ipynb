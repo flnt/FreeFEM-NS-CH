{
 "cells": [
  {
   "cell_type": "markdown",
   "id": "34110aab",
   "metadata": {},
   "source": [
    "### Phase-field"
   ]
  },
  {
   "cell_type": "code",
   "execution_count": 24,
   "id": "cd628fa0",
   "metadata": {},
   "outputs": [],
   "source": [
    "sharp() = 16*sqrt(mu2)*Ca/Cn;\n",
    "δ() = (1/√0.8679)*√(Ca*Cn*a/Pe);"
   ]
  },
  {
   "cell_type": "markdown",
   "id": "df7c9bae",
   "metadata": {},
   "source": [
    "#### Paramaters"
   ]
  },
  {
   "cell_type": "code",
   "execution_count": 25,
   "id": "fb98cfe7",
   "metadata": {},
   "outputs": [],
   "source": [
    "Ca  = 0.0212;\n",
    "Cn  = 0.01;\n",
    "Re  = 3.978;\n",
    "mu2 = 1e-2;\n",
    "rho2= 1e-2;\n",
    "thE = 60.0/180.0*pi;\n",
    "mufa= 0.0;\n",
    "mufr= 0.0;"
   ]
  },
  {
   "cell_type": "code",
   "execution_count": 26,
   "id": "60bff1de",
   "metadata": {},
   "outputs": [],
   "source": [
    "a = 3;"
   ]
  },
  {
   "cell_type": "code",
   "execution_count": 27,
   "id": "10eb8af0",
   "metadata": {},
   "outputs": [
    {
     "name": "stdout",
     "output_type": "stream",
     "text": [
      "sharp() = 3.392\n",
      "Pe = 3.0 < sharp() = true\n",
      "δ() = 0.027070340196507493\n"
     ]
    }
   ],
   "source": [
    "@show (sharp())\n",
    "@show (Pe  = 3.0 < sharp());\n",
    "@show (δ());"
   ]
  },
  {
   "cell_type": "code",
   "execution_count": null,
   "id": "299011fb",
   "metadata": {},
   "outputs": [],
   "source": []
  }
 ],
 "metadata": {
  "kernelspec": {
   "display_name": "Julia 1.8.0-rc1",
   "language": "julia",
   "name": "julia-1.8"
  },
  "language_info": {
   "file_extension": ".jl",
   "mimetype": "application/julia",
   "name": "julia",
   "version": "1.8.0"
  }
 },
 "nbformat": 4,
 "nbformat_minor": 5
}
